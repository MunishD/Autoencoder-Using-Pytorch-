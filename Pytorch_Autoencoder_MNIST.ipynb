{
  "nbformat": 4,
  "nbformat_minor": 0,
  "metadata": {
    "colab": {
      "provenance": [],
      "gpuType": "T4"
    },
    "kernelspec": {
      "name": "python3",
      "display_name": "Python 3"
    },
    "language_info": {
      "name": "python"
    },
    "accelerator": "GPU"
  },
  "cells": [
    {
      "cell_type": "markdown",
      "source": [
        "# Importing required python libraries"
      ],
      "metadata": {
        "id": "su7Yduixc0tF"
      }
    },
    {
      "cell_type": "code",
      "execution_count": null,
      "metadata": {
        "id": "DNuUTKzLcmB0"
      },
      "outputs": [],
      "source": [
        "import torch\n",
        "import torchvision\n",
        "import torchvision.datasets as datasets\n",
        "import matplotlib.pyplot as plt\n",
        "import torch.nn as nn\n",
        "import torch.nn.functional as F\n",
        "import torch.optim as optim"
      ]
    },
    {
      "cell_type": "markdown",
      "source": [
        "# Downloading MNIST dataset"
      ],
      "metadata": {
        "id": "UG-rQpkRdyzX"
      }
    },
    {
      "cell_type": "code",
      "source": [
        "batch_size_train = 64\n",
        "batch_size_test = 1000"
      ],
      "metadata": {
        "id": "AdLOSpWAdokS"
      },
      "execution_count": null,
      "outputs": []
    },
    {
      "cell_type": "code",
      "source": [
        "training_data = torchvision.datasets.MNIST('/files/', train=True, download=True,\n",
        "                             transform=torchvision.transforms.Compose([\n",
        "                               torchvision.transforms.ToTensor(),\n",
        "                               torchvision.transforms.Normalize(\n",
        "                                 (0.1307,), (0.3081,))\n",
        "                             ]))\n",
        "test_data=torchvision.datasets.MNIST('/files/', train=False, download=True,\n",
        "                             transform=torchvision.transforms.Compose([\n",
        "                               torchvision.transforms.ToTensor(),\n",
        "                               torchvision.transforms.Normalize(\n",
        "                                 (0.1307,), (0.3081,))\n",
        "                             ]))"
      ],
      "metadata": {
        "id": "0mFK9u6kqWmj"
      },
      "execution_count": null,
      "outputs": []
    },
    {
      "cell_type": "code",
      "source": [
        "train_loader = torch.utils.data.DataLoader(training_data\n",
        "  ,\n",
        "  batch_size=batch_size_train, shuffle=True)\n",
        "\n",
        "test_loader = torch.utils.data.DataLoader(test_data\n",
        "  ,\n",
        "  batch_size=batch_size_test, shuffle=True)"
      ],
      "metadata": {
        "id": "4eef-PHOfVnz"
      },
      "execution_count": null,
      "outputs": []
    },
    {
      "cell_type": "markdown",
      "source": [
        "# Data Visualisation\n"
      ],
      "metadata": {
        "id": "7_BvqKritGb2"
      }
    },
    {
      "cell_type": "code",
      "source": [
        "labels_map = {\n",
        "    0: \"0\",\n",
        "    1: \"1\",\n",
        "    2: \"2\",\n",
        "    3: \"3\",\n",
        "    4: \"4\",\n",
        "    5: \"5\",\n",
        "    6: \"6\",\n",
        "    7: \"7\",\n",
        "    8: \"8\",\n",
        "    9: \"9\",\n",
        "}\n",
        "figure = plt.figure(figsize=(8, 8))\n",
        "cols, rows = 3, 3\n",
        "for i in range(1, cols * rows + 1):\n",
        "    sample_idx = torch.randint(len(training_data), size=(1,)).item()\n",
        "    img, label = training_data[sample_idx]\n",
        "    figure.add_subplot(rows, cols, i)\n",
        "    plt.title(labels_map[label])\n",
        "    plt.axis(\"off\")\n",
        "    plt.imshow(img.squeeze(), cmap=\"gray\")\n",
        "plt.show()"
      ],
      "metadata": {
        "colab": {
          "base_uri": "https://localhost:8080/",
          "height": 675
        },
        "id": "YaI_fd07p-oj",
        "outputId": "7fd59c94-870c-4ea1-9e57-7072d0f2628b"
      },
      "execution_count": null,
      "outputs": [
        {
          "output_type": "display_data",
          "data": {
            "text/plain": [
              "<Figure size 800x800 with 9 Axes>"
            ],
            "image/png": "[encoded data removed]"
          },
          "metadata": {}
        }
      ]
    },
    {
      "cell_type": "code",
      "source": [
        "sample_idx = torch.randint(len(training_data), size=(1,)).item()\n",
        "img, label = training_data[sample_idx]"
      ],
      "metadata": {
        "id": "-HdHzJh0q7ys"
      },
      "execution_count": null,
      "outputs": []
    },
    {
      "cell_type": "code",
      "source": [
        "img.shape"
      ],
      "metadata": {
        "colab": {
          "base_uri": "https://localhost:8080/"
        },
        "id": "YONugKLXsRxC",
        "outputId": "932f3035-ec41-4a2d-8c93-a67dc789ef15"
      },
      "execution_count": null,
      "outputs": [
        {
          "output_type": "execute_result",
          "data": {
            "text/plain": [
              "torch.Size([1, 28, 28])"
            ]
          },
          "metadata": {},
          "execution_count": 15
        }
      ]
    },
    {
      "cell_type": "markdown",
      "source": [
        "# Defining Autoencoder Architecture\n",
        "\n",
        "![autoencoder.png](data:image/png;base64,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)"
      ],
      "metadata": {
        "id": "TJuF91rEtYBP"
      }
    },
    {
      "cell_type": "code",
      "source": [
        "class autoencoder(nn.Module):\n",
        "    def __init__(self):\n",
        "        super(autoencoder, self).__init__()\n",
        "        ## encoder layers ##\n",
        "\n",
        "        self.conv1 = nn.Conv2d(1, 32, 3, stride=2)\n",
        "        self.conv2 = nn.Conv2d(32, 64, 3, stride=2)\n",
        "        self.conv3 = nn.Conv2d(64, 128, 3, stride=2)\n",
        "        #self.flatten = nn.Flatten()\n",
        "        self.bottleneck=nn.Linear(3*3*128,10)\n",
        "        ## decoder layers ##\n",
        "        ## a kernel of 2 and a stride of 2 will increase the spatial dims by 2\n",
        "        self.t_conv1 = nn.ConvTranspose2d(128, 64, 3, stride=2)\n",
        "        self.t_conv2 = nn.ConvTranspose2d(64, 32, 3, stride=2)\n",
        "        self.t_conv3 = nn.ConvTranspose2d(32, 1, 3, stride=2)\n",
        "\n",
        "    def forward(self, x):\n",
        "        ## encode ##\n",
        "        # add hidden layers with relu activation function\n",
        "        x = F.relu(self.conv1(x))\n",
        "        x = F.relu(self.conv2(x))\n",
        "        x = F.relu(self.conv3(x))\n",
        "        #x = self.flatten(x)\n",
        "       # print(x.shape)\n",
        "        x=x.view(x.size(0), 128, 3, 3)\n",
        "       # x = x.view(-1, 3*3*128)\n",
        "\n",
        "        ## decode ##\n",
        "        # add transpose conv layers, with relu activation function\n",
        "        x = F.relu(self.t_conv1(x))\n",
        "        x = F.relu(self.t_conv2(x))\n",
        "        # output layer (with sigmoid for scaling from 0 to 1)\n",
        "        x = F.sigmoid(self.t_conv3(x))\n",
        "        return x\n",
        "# initialize the NN\n",
        "model = autoencoder()"
      ],
      "metadata": {
        "id": "dONTnYxLsStt"
      },
      "execution_count": null,
      "outputs": []
    },
    {
      "cell_type": "code",
      "source": [
        "print(model)"
      ],
      "metadata": {
        "colab": {
          "base_uri": "https://localhost:8080/"
        },
        "id": "tXzzdvPC5EKa",
        "outputId": "9174fd27-de1b-41a8-a3ad-4f36a52fe551"
      },
      "execution_count": null,
      "outputs": [
        {
          "output_type": "stream",
          "name": "stdout",
          "text": [
            "autoencoder(\n",
            "  (conv1): Conv2d(1, 32, kernel_size=(3, 3), stride=(2, 2))\n",
            "  (conv2): Conv2d(32, 64, kernel_size=(3, 3), stride=(2, 2))\n",
            "  (conv3): Conv2d(64, 128, kernel_size=(3, 3), stride=(2, 2))\n",
            "  (bottleneck): Linear(in_features=1152, out_features=10, bias=True)\n",
            "  (t_conv1): ConvTranspose2d(128, 64, kernel_size=(3, 3), stride=(2, 2))\n",
            "  (t_conv2): ConvTranspose2d(64, 32, kernel_size=(3, 3), stride=(2, 2))\n",
            "  (t_conv3): ConvTranspose2d(32, 1, kernel_size=(3, 3), stride=(2, 2))\n",
            ")\n"
          ]
        }
      ]
    },
    {
      "cell_type": "code",
      "source": [
        "#Loss function\n",
        "criterion = nn.BCELoss()\n",
        "\n",
        "#Optimizer\n",
        "optimizer = torch.optim.Adam(model.parameters(), lr=0.001)"
      ],
      "metadata": {
        "id": "19-x4kLv5Rxb"
      },
      "execution_count": null,
      "outputs": []
    },
    {
      "cell_type": "code",
      "source": [
        "def get_device():\n",
        "    if torch.cuda.is_available():\n",
        "        device = 'cuda:0'\n",
        "    else:\n",
        "        device = 'cpu'\n",
        "    return device\n",
        "\n",
        "device = get_device()\n",
        "print(device)\n",
        "model.to(device)"
      ],
      "metadata": {
        "colab": {
          "base_uri": "https://localhost:8080/"
        },
        "id": "6U11kuH-5zqu",
        "outputId": "d21ae071-1ae0-4a4b-c231-2dc75b183613"
      },
      "execution_count": null,
      "outputs": [
        {
          "output_type": "stream",
          "name": "stdout",
          "text": [
            "cuda:0\n"
          ]
        },
        {
          "output_type": "execute_result",
          "data": {
            "text/plain": [
              "autoencoder(\n",
              "  (conv1): Conv2d(1, 32, kernel_size=(3, 3), stride=(2, 2))\n",
              "  (conv2): Conv2d(32, 64, kernel_size=(3, 3), stride=(2, 2))\n",
              "  (conv3): Conv2d(64, 128, kernel_size=(3, 3), stride=(2, 2))\n",
              "  (bottleneck): Linear(in_features=1152, out_features=10, bias=True)\n",
              "  (t_conv1): ConvTranspose2d(128, 64, kernel_size=(3, 3), stride=(2, 2))\n",
              "  (t_conv2): ConvTranspose2d(64, 32, kernel_size=(3, 3), stride=(2, 2))\n",
              "  (t_conv3): ConvTranspose2d(32, 1, kernel_size=(3, 3), stride=(2, 2))\n",
              ")"
            ]
          },
          "metadata": {},
          "execution_count": 48
        }
      ]
    },
    {
      "cell_type": "code",
      "source": [
        "#Epochs\n",
        "n_epochs = 100\n",
        "\n",
        "for epoch in range(1, n_epochs+1):\n",
        "    # monitor training loss\n",
        "    train_loss = 0.0\n",
        "\n",
        "    #Training\n",
        "    for data in train_loader:\n",
        "        images, _ = data\n",
        "        images = images.to(device)\n",
        "        optimizer.zero_grad()\n",
        "        outputs = model(images)\n",
        "        loss = criterion(outputs, images)\n",
        "        loss.backward()\n",
        "        optimizer.step()\n",
        "        train_loss += loss.item()*images.size(0)\n",
        "\n",
        "    train_loss = train_loss/len(train_loader)\n",
        "    print('Epoch: {} \\tTraining Loss: {:.6f}'.format(epoch, train_loss))"
      ],
      "metadata": {
        "colab": {
          "base_uri": "https://localhost:8080/",
          "height": 397
        },
        "id": "dQSYctf255I8",
        "outputId": "2d1f9154-6954-4ac8-b8a2-3d79e99a4997"
      },
      "execution_count": null,
      "outputs": [
        {
          "output_type": "error",
          "ename": "RuntimeError",
          "evalue": "ignored",
          "traceback": [
            "\u001b[0;31m---------------------------------------------------------------------------\u001b[0m",
            "\u001b[0;31mRuntimeError\u001b[0m                              Traceback (most recent call last)",
            "\u001b[0;32m<ipython-input-49-bb159c79a1ca>\u001b[0m in \u001b[0;36m<cell line: 4>\u001b[0;34m()\u001b[0m\n\u001b[1;32m     11\u001b[0m         \u001b[0mimages\u001b[0m \u001b[0;34m=\u001b[0m \u001b[0mimages\u001b[0m\u001b[0;34m.\u001b[0m\u001b[0mto\u001b[0m\u001b[0;34m(\u001b[0m\u001b[0mdevice\u001b[0m\u001b[0;34m)\u001b[0m\u001b[0;34m\u001b[0m\u001b[0;34m\u001b[0m\u001b[0m\n\u001b[1;32m     12\u001b[0m         \u001b[0moptimizer\u001b[0m\u001b[0;34m.\u001b[0m\u001b[0mzero_grad\u001b[0m\u001b[0;34m(\u001b[0m\u001b[0;34m)\u001b[0m\u001b[0;34m\u001b[0m\u001b[0;34m\u001b[0m\u001b[0m\n\u001b[0;32m---> 13\u001b[0;31m         \u001b[0moutputs\u001b[0m \u001b[0;34m=\u001b[0m \u001b[0mmodel\u001b[0m\u001b[0;34m(\u001b[0m\u001b[0mimages\u001b[0m\u001b[0;34m)\u001b[0m\u001b[0;34m\u001b[0m\u001b[0;34m\u001b[0m\u001b[0m\n\u001b[0m\u001b[1;32m     14\u001b[0m         \u001b[0mloss\u001b[0m \u001b[0;34m=\u001b[0m \u001b[0mcriterion\u001b[0m\u001b[0;34m(\u001b[0m\u001b[0moutputs\u001b[0m\u001b[0;34m,\u001b[0m \u001b[0mimages\u001b[0m\u001b[0;34m)\u001b[0m\u001b[0;34m\u001b[0m\u001b[0;34m\u001b[0m\u001b[0m\n\u001b[1;32m     15\u001b[0m         \u001b[0mloss\u001b[0m\u001b[0;34m.\u001b[0m\u001b[0mbackward\u001b[0m\u001b[0;34m(\u001b[0m\u001b[0;34m)\u001b[0m\u001b[0;34m\u001b[0m\u001b[0;34m\u001b[0m\u001b[0m\n",
            "\u001b[0;32m/usr/local/lib/python3.10/dist-packages/torch/nn/modules/module.py\u001b[0m in \u001b[0;36m_call_impl\u001b[0;34m(self, *args, **kwargs)\u001b[0m\n\u001b[1;32m   1499\u001b[0m                 \u001b[0;32mor\u001b[0m \u001b[0m_global_backward_pre_hooks\u001b[0m \u001b[0;32mor\u001b[0m \u001b[0m_global_backward_hooks\u001b[0m\u001b[0;34m\u001b[0m\u001b[0;34m\u001b[0m\u001b[0m\n\u001b[1;32m   1500\u001b[0m                 or _global_forward_hooks or _global_forward_pre_hooks):\n\u001b[0;32m-> 1501\u001b[0;31m             \u001b[0;32mreturn\u001b[0m \u001b[0mforward_call\u001b[0m\u001b[0;34m(\u001b[0m\u001b[0;34m*\u001b[0m\u001b[0margs\u001b[0m\u001b[0;34m,\u001b[0m \u001b[0;34m**\u001b[0m\u001b[0mkwargs\u001b[0m\u001b[0;34m)\u001b[0m\u001b[0;34m\u001b[0m\u001b[0;34m\u001b[0m\u001b[0m\n\u001b[0m\u001b[1;32m   1502\u001b[0m         \u001b[0;31m# Do not call functions when jit is used\u001b[0m\u001b[0;34m\u001b[0m\u001b[0;34m\u001b[0m\u001b[0m\n\u001b[1;32m   1503\u001b[0m         \u001b[0mfull_backward_hooks\u001b[0m\u001b[0;34m,\u001b[0m \u001b[0mnon_full_backward_hooks\u001b[0m \u001b[0;34m=\u001b[0m \u001b[0;34m[\u001b[0m\u001b[0;34m]\u001b[0m\u001b[0;34m,\u001b[0m \u001b[0;34m[\u001b[0m\u001b[0;34m]\u001b[0m\u001b[0;34m\u001b[0m\u001b[0;34m\u001b[0m\u001b[0m\n",
            "\u001b[0;32m<ipython-input-45-4530a7fc9c78>\u001b[0m in \u001b[0;36mforward\u001b[0;34m(self, x)\u001b[0m\n\u001b[1;32m     23\u001b[0m         \u001b[0;31m#x = self.flatten(x)\u001b[0m\u001b[0;34m\u001b[0m\u001b[0;34m\u001b[0m\u001b[0m\n\u001b[1;32m     24\u001b[0m        \u001b[0;31m# print(x.shape)\u001b[0m\u001b[0;34m\u001b[0m\u001b[0;34m\u001b[0m\u001b[0m\n\u001b[0;32m---> 25\u001b[0;31m         \u001b[0mx\u001b[0m\u001b[0;34m=\u001b[0m\u001b[0mx\u001b[0m\u001b[0;34m.\u001b[0m\u001b[0mview\u001b[0m\u001b[0;34m(\u001b[0m\u001b[0mx\u001b[0m\u001b[0;34m.\u001b[0m\u001b[0msize\u001b[0m\u001b[0;34m(\u001b[0m\u001b[0;36m0\u001b[0m\u001b[0;34m)\u001b[0m\u001b[0;34m,\u001b[0m \u001b[0;36m128\u001b[0m\u001b[0;34m,\u001b[0m \u001b[0;36m3\u001b[0m\u001b[0;34m,\u001b[0m \u001b[0;36m3\u001b[0m\u001b[0;34m)\u001b[0m\u001b[0;34m\u001b[0m\u001b[0;34m\u001b[0m\u001b[0m\n\u001b[0m\u001b[1;32m     26\u001b[0m        \u001b[0;31m# x = x.view(-1, 3*3*128)\u001b[0m\u001b[0;34m\u001b[0m\u001b[0;34m\u001b[0m\u001b[0m\n\u001b[1;32m     27\u001b[0m \u001b[0;34m\u001b[0m\u001b[0m\n",
            "\u001b[0;31mRuntimeError\u001b[0m: shape '[64, 128, 3, 3]' is invalid for input of size 32768"
          ]
        }
      ]
    },
    {
      "cell_type": "code",
      "source": [],
      "metadata": {
        "id": "Fu4UnC_u5-x_"
      },
      "execution_count": null,
      "outputs": []
    }
  ]
}